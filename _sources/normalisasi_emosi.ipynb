{
  "nbformat": 4,
  "nbformat_minor": 0,
  "metadata": {
    "colab": {
      "provenance": []
    },
    "kernelspec": {
      "name": "python3",
      "display_name": "Python 3"
    },
    "language_info": {
      "name": "python"
    }
  },
  "cells": [
    {
      "cell_type": "markdown",
      "source": [
        "**SITI MA'RIFATUL KHOIRIYAH_210411100007**"
      ],
      "metadata": {
        "id": "AAHUbIjom_gs"
      }
    },
    {
      "cell_type": "code",
      "source": [
        "from google.colab import drive\n",
        "drive.mount('/content/drive')\n",
        "%cd /content/drive/MyDrive/psd/AUDIO TORONTO"
      ],
      "metadata": {
        "colab": {
          "base_uri": "https://localhost:8080/"
        },
        "id": "Dhe8PwyLnN35",
        "outputId": "21621886-e784-47a3-b50d-cdd64692e321"
      },
      "execution_count": null,
      "outputs": [
        {
          "output_type": "stream",
          "name": "stdout",
          "text": [
            "Mounted at /content/drive\n",
            "/content/drive/MyDrive/psd/AUDIO TORONTO\n"
          ]
        }
      ]
    },
    {
      "cell_type": "code",
      "source": [
        "%%capture\n",
        "pip install librosa"
      ],
      "metadata": {
        "id": "ecwCO9WidPd5"
      },
      "execution_count": null,
      "outputs": []
    },
    {
      "cell_type": "markdown",
      "source": [
        "# **EKSTRAKSI FITUR**"
      ],
      "metadata": {
        "id": "K0FW4fjkdbKv"
      }
    },
    {
      "cell_type": "code",
      "source": [
        "# Import Library\n",
        "import os\n",
        "import librosa\n",
        "import numpy as np\n",
        "import pandas as pd\n",
        "from scipy.stats import skew, kurtosis, mode"
      ],
      "metadata": {
        "id": "_VCMOvUqnZOC"
      },
      "execution_count": null,
      "outputs": []
    },
    {
      "cell_type": "code",
      "source": [
        "folders=['YAF_sad','YAF_pleasant_surprised','YAF_neutral',\n",
        "         'YAF_happy','YAF_fear','YAF_disgust','YAF_angry',\n",
        "         'OAF_Sad','OAF_Pleasant_surprise','OAF_neutral',\n",
        "         'OAF_happy','OAF_Fear','OAF_disgust',\n",
        "         'OAF_angry',\n",
        "         ]"
      ],
      "metadata": {
        "id": "iStWv5QunkoH"
      },
      "execution_count": null,
      "outputs": []
    },
    {
      "cell_type": "code",
      "source": [
        "def calculate_statistics(audio_path):\n",
        "    y, sr = librosa.load(audio_path)\n",
        "\n",
        "    # UNTUK MENGHITUNG NILAI STATISTIKA\n",
        "    mean = np.mean(y)\n",
        "    std_dev = np.std(y)\n",
        "    max_value = np.max(y)\n",
        "    min_value = np.min(y)\n",
        "    median = np.median(y)\n",
        "    skewness = skew(y)  # Calculate skewness\n",
        "    kurt = kurtosis(y)  # Calculate kurtosis\n",
        "\n",
        "    # UNTUK MENGHITUNG NILAI ZCR\n",
        "    zcr_mean = np.mean(librosa.feature.zero_crossing_rate(y=y))\n",
        "    zcr_median = np.median(librosa.feature.zero_crossing_rate(y=y))\n",
        "    zcr_std_dev = np.std(librosa.feature.zero_crossing_rate(y=y))\n",
        "    zcr_kurtosis = kurtosis(librosa.feature.zero_crossing_rate(y=y)[0])\n",
        "    zcr_skew = skew(librosa.feature.zero_crossing_rate(y=y)[0])\n",
        "\n",
        "    # UNTUK MENGHITUNG NILAI RMSE\n",
        "    rmse = np.sum(y**2) / len(y)\n",
        "    rmse_median = np.median(y**2)\n",
        "    rmse_std_dev = np.std(y**2)\n",
        "    rmse_kurtosis = kurtosis(y**2)\n",
        "    rmse_skew = skew(y**2)\n",
        "\n",
        "    return [zcr_mean, zcr_median, zcr_std_dev, zcr_kurtosis, zcr_skew, rmse, rmse_median, rmse_std_dev, rmse_kurtosis, rmse_skew]"
      ],
      "metadata": {
        "id": "ZQCfZtVjnnmn"
      },
      "execution_count": null,
      "outputs": []
    },
    {
      "cell_type": "code",
      "source": [
        "# Membuat DataFrame untuk menyimpan hasil\n",
        "data = []"
      ],
      "metadata": {
        "id": "o5i2REnBnptT"
      },
      "execution_count": null,
      "outputs": []
    },
    {
      "cell_type": "code",
      "source": [
        "# Loop melalui setiap folder dan file audio\n",
        "for folder in folders:\n",
        "    folder_path = f'{folder}'\n",
        "    for filename in os.listdir(folder_path):\n",
        "        if filename.endswith('.wav'):\n",
        "            audio_path = os.path.join(folder_path, filename)\n",
        "            statistics = calculate_statistics(audio_path)\n",
        "            data.append([folder, filename] + statistics)"
      ],
      "metadata": {
        "id": "xOL3SWcDnrxh"
      },
      "execution_count": null,
      "outputs": []
    },
    {
      "cell_type": "code",
      "source": [
        "# Membuat DataFrame dari data\n",
        "columns =  ['Label', 'File'] + ['ZCR Mean', 'ZCR Median', 'ZCR Std Dev', 'ZCR Kurtosis', 'ZCR Skew', 'RMSE', 'RMSE Median', 'RMSE Std Dev', 'RMSE Kurtosis', 'RMSE Skew']\n",
        "df = pd.DataFrame(data, columns=columns)"
      ],
      "metadata": {
        "id": "SH-HbWmCpZ0T"
      },
      "execution_count": null,
      "outputs": []
    },
    {
      "cell_type": "code",
      "source": [
        "# Menampilkan file CSV\n",
        "df"
      ],
      "metadata": {
        "colab": {
          "base_uri": "https://localhost:8080/",
          "height": 461
        },
        "id": "cruETzyzpdGb",
        "outputId": "4ac8060d-762d-4cc6-fab5-fac535d944f5"
      },
      "execution_count": null,
      "outputs": [
        {
          "output_type": "execute_result",
          "data": {
            "text/plain": [
              "          Label                  File  ZCR Mean  ZCR Median  ZCR Std Dev  \\\n",
              "0       YAF_sad       YAF_gas_sad.wav  0.192857    0.042480     0.265538   \n",
              "1       YAF_sad     YAF_goose_sad.wav  0.182617    0.046875     0.245189   \n",
              "2       YAF_sad     YAF_chair_sad.wav  0.133214    0.021484     0.202694   \n",
              "3       YAF_sad      YAF_germ_sad.wav  0.134588    0.037109     0.216944   \n",
              "4       YAF_sad      YAF_limb_sad.wav  0.101898    0.033203     0.187808   \n",
              "...         ...                   ...       ...         ...          ...   \n",
              "2795  OAF_angry     OAF_lot_angry.wav  0.088930    0.055908     0.103065   \n",
              "2796  OAF_angry    OAF_thin_angry.wav  0.122681    0.060303     0.121685   \n",
              "2797  OAF_angry   OAF_perch_angry.wav  0.081423    0.060547     0.083024   \n",
              "2798  OAF_angry    OAF_luck_angry.wav  0.083126    0.062744     0.086203   \n",
              "2799  OAF_angry  OAF_search_angry.wav  0.133446    0.068115     0.134997   \n",
              "\n",
              "      ZCR Kurtosis  ZCR Skew      RMSE  RMSE Median  RMSE Std Dev  \\\n",
              "0         0.054455  1.328582  0.000980     0.000194      0.002083   \n",
              "1         0.037876  1.320627  0.002526     0.000275      0.005935   \n",
              "2         2.302072  1.881587  0.000576     0.000161      0.001048   \n",
              "3         3.035306  2.075205  0.001716     0.000320      0.003778   \n",
              "4         5.820668  2.693270  0.005470     0.000982      0.011635   \n",
              "...            ...       ...       ...          ...           ...   \n",
              "2795      6.091986  2.631815  0.002318     0.000237      0.006366   \n",
              "2796      0.990843  1.453864  0.004285     0.000189      0.011142   \n",
              "2797      5.690889  2.393663  0.003017     0.000130      0.008586   \n",
              "2798      3.685553  1.973698  0.000502     0.000051      0.001268   \n",
              "2799      0.759582  1.433226  0.002318     0.000119      0.005528   \n",
              "\n",
              "      RMSE Kurtosis  RMSE Skew  \n",
              "0         24.307945   4.267333  \n",
              "1         28.021587   4.589746  \n",
              "2         14.417235   3.420924  \n",
              "3         23.784036   4.284389  \n",
              "4         34.287124   4.722479  \n",
              "...             ...        ...  \n",
              "2795      39.610165   5.619980  \n",
              "2796      22.885030   4.356848  \n",
              "2797      47.058684   5.896208  \n",
              "2798      30.544881   4.824743  \n",
              "2799      19.759606   3.938235  \n",
              "\n",
              "[2800 rows x 12 columns]"
            ],
            "text/html": [
              "\n",
              "  <div id=\"df-5e6f53ff-2257-4cbe-8b42-c64cf46e9e49\" class=\"colab-df-container\">\n",
              "    <div>\n",
              "<style scoped>\n",
              "    .dataframe tbody tr th:only-of-type {\n",
              "        vertical-align: middle;\n",
              "    }\n",
              "\n",
              "    .dataframe tbody tr th {\n",
              "        vertical-align: top;\n",
              "    }\n",
              "\n",
              "    .dataframe thead th {\n",
              "        text-align: right;\n",
              "    }\n",
              "</style>\n",
              "<table border=\"1\" class=\"dataframe\">\n",
              "  <thead>\n",
              "    <tr style=\"text-align: right;\">\n",
              "      <th></th>\n",
              "      <th>Label</th>\n",
              "      <th>File</th>\n",
              "      <th>ZCR Mean</th>\n",
              "      <th>ZCR Median</th>\n",
              "      <th>ZCR Std Dev</th>\n",
              "      <th>ZCR Kurtosis</th>\n",
              "      <th>ZCR Skew</th>\n",
              "      <th>RMSE</th>\n",
              "      <th>RMSE Median</th>\n",
              "      <th>RMSE Std Dev</th>\n",
              "      <th>RMSE Kurtosis</th>\n",
              "      <th>RMSE Skew</th>\n",
              "    </tr>\n",
              "  </thead>\n",
              "  <tbody>\n",
              "    <tr>\n",
              "      <th>0</th>\n",
              "      <td>YAF_sad</td>\n",
              "      <td>YAF_gas_sad.wav</td>\n",
              "      <td>0.192857</td>\n",
              "      <td>0.042480</td>\n",
              "      <td>0.265538</td>\n",
              "      <td>0.054455</td>\n",
              "      <td>1.328582</td>\n",
              "      <td>0.000980</td>\n",
              "      <td>0.000194</td>\n",
              "      <td>0.002083</td>\n",
              "      <td>24.307945</td>\n",
              "      <td>4.267333</td>\n",
              "    </tr>\n",
              "    <tr>\n",
              "      <th>1</th>\n",
              "      <td>YAF_sad</td>\n",
              "      <td>YAF_goose_sad.wav</td>\n",
              "      <td>0.182617</td>\n",
              "      <td>0.046875</td>\n",
              "      <td>0.245189</td>\n",
              "      <td>0.037876</td>\n",
              "      <td>1.320627</td>\n",
              "      <td>0.002526</td>\n",
              "      <td>0.000275</td>\n",
              "      <td>0.005935</td>\n",
              "      <td>28.021587</td>\n",
              "      <td>4.589746</td>\n",
              "    </tr>\n",
              "    <tr>\n",
              "      <th>2</th>\n",
              "      <td>YAF_sad</td>\n",
              "      <td>YAF_chair_sad.wav</td>\n",
              "      <td>0.133214</td>\n",
              "      <td>0.021484</td>\n",
              "      <td>0.202694</td>\n",
              "      <td>2.302072</td>\n",
              "      <td>1.881587</td>\n",
              "      <td>0.000576</td>\n",
              "      <td>0.000161</td>\n",
              "      <td>0.001048</td>\n",
              "      <td>14.417235</td>\n",
              "      <td>3.420924</td>\n",
              "    </tr>\n",
              "    <tr>\n",
              "      <th>3</th>\n",
              "      <td>YAF_sad</td>\n",
              "      <td>YAF_germ_sad.wav</td>\n",
              "      <td>0.134588</td>\n",
              "      <td>0.037109</td>\n",
              "      <td>0.216944</td>\n",
              "      <td>3.035306</td>\n",
              "      <td>2.075205</td>\n",
              "      <td>0.001716</td>\n",
              "      <td>0.000320</td>\n",
              "      <td>0.003778</td>\n",
              "      <td>23.784036</td>\n",
              "      <td>4.284389</td>\n",
              "    </tr>\n",
              "    <tr>\n",
              "      <th>4</th>\n",
              "      <td>YAF_sad</td>\n",
              "      <td>YAF_limb_sad.wav</td>\n",
              "      <td>0.101898</td>\n",
              "      <td>0.033203</td>\n",
              "      <td>0.187808</td>\n",
              "      <td>5.820668</td>\n",
              "      <td>2.693270</td>\n",
              "      <td>0.005470</td>\n",
              "      <td>0.000982</td>\n",
              "      <td>0.011635</td>\n",
              "      <td>34.287124</td>\n",
              "      <td>4.722479</td>\n",
              "    </tr>\n",
              "    <tr>\n",
              "      <th>...</th>\n",
              "      <td>...</td>\n",
              "      <td>...</td>\n",
              "      <td>...</td>\n",
              "      <td>...</td>\n",
              "      <td>...</td>\n",
              "      <td>...</td>\n",
              "      <td>...</td>\n",
              "      <td>...</td>\n",
              "      <td>...</td>\n",
              "      <td>...</td>\n",
              "      <td>...</td>\n",
              "      <td>...</td>\n",
              "    </tr>\n",
              "    <tr>\n",
              "      <th>2795</th>\n",
              "      <td>OAF_angry</td>\n",
              "      <td>OAF_lot_angry.wav</td>\n",
              "      <td>0.088930</td>\n",
              "      <td>0.055908</td>\n",
              "      <td>0.103065</td>\n",
              "      <td>6.091986</td>\n",
              "      <td>2.631815</td>\n",
              "      <td>0.002318</td>\n",
              "      <td>0.000237</td>\n",
              "      <td>0.006366</td>\n",
              "      <td>39.610165</td>\n",
              "      <td>5.619980</td>\n",
              "    </tr>\n",
              "    <tr>\n",
              "      <th>2796</th>\n",
              "      <td>OAF_angry</td>\n",
              "      <td>OAF_thin_angry.wav</td>\n",
              "      <td>0.122681</td>\n",
              "      <td>0.060303</td>\n",
              "      <td>0.121685</td>\n",
              "      <td>0.990843</td>\n",
              "      <td>1.453864</td>\n",
              "      <td>0.004285</td>\n",
              "      <td>0.000189</td>\n",
              "      <td>0.011142</td>\n",
              "      <td>22.885030</td>\n",
              "      <td>4.356848</td>\n",
              "    </tr>\n",
              "    <tr>\n",
              "      <th>2797</th>\n",
              "      <td>OAF_angry</td>\n",
              "      <td>OAF_perch_angry.wav</td>\n",
              "      <td>0.081423</td>\n",
              "      <td>0.060547</td>\n",
              "      <td>0.083024</td>\n",
              "      <td>5.690889</td>\n",
              "      <td>2.393663</td>\n",
              "      <td>0.003017</td>\n",
              "      <td>0.000130</td>\n",
              "      <td>0.008586</td>\n",
              "      <td>47.058684</td>\n",
              "      <td>5.896208</td>\n",
              "    </tr>\n",
              "    <tr>\n",
              "      <th>2798</th>\n",
              "      <td>OAF_angry</td>\n",
              "      <td>OAF_luck_angry.wav</td>\n",
              "      <td>0.083126</td>\n",
              "      <td>0.062744</td>\n",
              "      <td>0.086203</td>\n",
              "      <td>3.685553</td>\n",
              "      <td>1.973698</td>\n",
              "      <td>0.000502</td>\n",
              "      <td>0.000051</td>\n",
              "      <td>0.001268</td>\n",
              "      <td>30.544881</td>\n",
              "      <td>4.824743</td>\n",
              "    </tr>\n",
              "    <tr>\n",
              "      <th>2799</th>\n",
              "      <td>OAF_angry</td>\n",
              "      <td>OAF_search_angry.wav</td>\n",
              "      <td>0.133446</td>\n",
              "      <td>0.068115</td>\n",
              "      <td>0.134997</td>\n",
              "      <td>0.759582</td>\n",
              "      <td>1.433226</td>\n",
              "      <td>0.002318</td>\n",
              "      <td>0.000119</td>\n",
              "      <td>0.005528</td>\n",
              "      <td>19.759606</td>\n",
              "      <td>3.938235</td>\n",
              "    </tr>\n",
              "  </tbody>\n",
              "</table>\n",
              "<p>2800 rows × 12 columns</p>\n",
              "</div>\n",
              "    <div class=\"colab-df-buttons\">\n",
              "\n",
              "  <div class=\"colab-df-container\">\n",
              "    <button class=\"colab-df-convert\" onclick=\"convertToInteractive('df-5e6f53ff-2257-4cbe-8b42-c64cf46e9e49')\"\n",
              "            title=\"Convert this dataframe to an interactive table.\"\n",
              "            style=\"display:none;\">\n",
              "\n",
              "  <svg xmlns=\"http://www.w3.org/2000/svg\" height=\"24px\" viewBox=\"0 -960 960 960\">\n",
              "    <path d=\"M120-120v-720h720v720H120Zm60-500h600v-160H180v160Zm220 220h160v-160H400v160Zm0 220h160v-160H400v160ZM180-400h160v-160H180v160Zm440 0h160v-160H620v160ZM180-180h160v-160H180v160Zm440 0h160v-160H620v160Z\"/>\n",
              "  </svg>\n",
              "    </button>\n",
              "\n",
              "  <style>\n",
              "    .colab-df-container {\n",
              "      display:flex;\n",
              "      gap: 12px;\n",
              "    }\n",
              "\n",
              "    .colab-df-convert {\n",
              "      background-color: #E8F0FE;\n",
              "      border: none;\n",
              "      border-radius: 50%;\n",
              "      cursor: pointer;\n",
              "      display: none;\n",
              "      fill: #1967D2;\n",
              "      height: 32px;\n",
              "      padding: 0 0 0 0;\n",
              "      width: 32px;\n",
              "    }\n",
              "\n",
              "    .colab-df-convert:hover {\n",
              "      background-color: #E2EBFA;\n",
              "      box-shadow: 0px 1px 2px rgba(60, 64, 67, 0.3), 0px 1px 3px 1px rgba(60, 64, 67, 0.15);\n",
              "      fill: #174EA6;\n",
              "    }\n",
              "\n",
              "    .colab-df-buttons div {\n",
              "      margin-bottom: 4px;\n",
              "    }\n",
              "\n",
              "    [theme=dark] .colab-df-convert {\n",
              "      background-color: #3B4455;\n",
              "      fill: #D2E3FC;\n",
              "    }\n",
              "\n",
              "    [theme=dark] .colab-df-convert:hover {\n",
              "      background-color: #434B5C;\n",
              "      box-shadow: 0px 1px 3px 1px rgba(0, 0, 0, 0.15);\n",
              "      filter: drop-shadow(0px 1px 2px rgba(0, 0, 0, 0.3));\n",
              "      fill: #FFFFFF;\n",
              "    }\n",
              "  </style>\n",
              "\n",
              "    <script>\n",
              "      const buttonEl =\n",
              "        document.querySelector('#df-5e6f53ff-2257-4cbe-8b42-c64cf46e9e49 button.colab-df-convert');\n",
              "      buttonEl.style.display =\n",
              "        google.colab.kernel.accessAllowed ? 'block' : 'none';\n",
              "\n",
              "      async function convertToInteractive(key) {\n",
              "        const element = document.querySelector('#df-5e6f53ff-2257-4cbe-8b42-c64cf46e9e49');\n",
              "        const dataTable =\n",
              "          await google.colab.kernel.invokeFunction('convertToInteractive',\n",
              "                                                    [key], {});\n",
              "        if (!dataTable) return;\n",
              "\n",
              "        const docLinkHtml = 'Like what you see? Visit the ' +\n",
              "          '<a target=\"_blank\" href=https://colab.research.google.com/notebooks/data_table.ipynb>data table notebook</a>'\n",
              "          + ' to learn more about interactive tables.';\n",
              "        element.innerHTML = '';\n",
              "        dataTable['output_type'] = 'display_data';\n",
              "        await google.colab.output.renderOutput(dataTable, element);\n",
              "        const docLink = document.createElement('div');\n",
              "        docLink.innerHTML = docLinkHtml;\n",
              "        element.appendChild(docLink);\n",
              "      }\n",
              "    </script>\n",
              "  </div>\n",
              "\n",
              "\n",
              "<div id=\"df-00d1ba52-5472-4491-a322-3371f7700bc9\">\n",
              "  <button class=\"colab-df-quickchart\" onclick=\"quickchart('df-00d1ba52-5472-4491-a322-3371f7700bc9')\"\n",
              "            title=\"Suggest charts.\"\n",
              "            style=\"display:none;\">\n",
              "\n",
              "<svg xmlns=\"http://www.w3.org/2000/svg\" height=\"24px\"viewBox=\"0 0 24 24\"\n",
              "     width=\"24px\">\n",
              "    <g>\n",
              "        <path d=\"M19 3H5c-1.1 0-2 .9-2 2v14c0 1.1.9 2 2 2h14c1.1 0 2-.9 2-2V5c0-1.1-.9-2-2-2zM9 17H7v-7h2v7zm4 0h-2V7h2v10zm4 0h-2v-4h2v4z\"/>\n",
              "    </g>\n",
              "</svg>\n",
              "  </button>\n",
              "\n",
              "<style>\n",
              "  .colab-df-quickchart {\n",
              "      --bg-color: #E8F0FE;\n",
              "      --fill-color: #1967D2;\n",
              "      --hover-bg-color: #E2EBFA;\n",
              "      --hover-fill-color: #174EA6;\n",
              "      --disabled-fill-color: #AAA;\n",
              "      --disabled-bg-color: #DDD;\n",
              "  }\n",
              "\n",
              "  [theme=dark] .colab-df-quickchart {\n",
              "      --bg-color: #3B4455;\n",
              "      --fill-color: #D2E3FC;\n",
              "      --hover-bg-color: #434B5C;\n",
              "      --hover-fill-color: #FFFFFF;\n",
              "      --disabled-bg-color: #3B4455;\n",
              "      --disabled-fill-color: #666;\n",
              "  }\n",
              "\n",
              "  .colab-df-quickchart {\n",
              "    background-color: var(--bg-color);\n",
              "    border: none;\n",
              "    border-radius: 50%;\n",
              "    cursor: pointer;\n",
              "    display: none;\n",
              "    fill: var(--fill-color);\n",
              "    height: 32px;\n",
              "    padding: 0;\n",
              "    width: 32px;\n",
              "  }\n",
              "\n",
              "  .colab-df-quickchart:hover {\n",
              "    background-color: var(--hover-bg-color);\n",
              "    box-shadow: 0 1px 2px rgba(60, 64, 67, 0.3), 0 1px 3px 1px rgba(60, 64, 67, 0.15);\n",
              "    fill: var(--button-hover-fill-color);\n",
              "  }\n",
              "\n",
              "  .colab-df-quickchart-complete:disabled,\n",
              "  .colab-df-quickchart-complete:disabled:hover {\n",
              "    background-color: var(--disabled-bg-color);\n",
              "    fill: var(--disabled-fill-color);\n",
              "    box-shadow: none;\n",
              "  }\n",
              "\n",
              "  .colab-df-spinner {\n",
              "    border: 2px solid var(--fill-color);\n",
              "    border-color: transparent;\n",
              "    border-bottom-color: var(--fill-color);\n",
              "    animation:\n",
              "      spin 1s steps(1) infinite;\n",
              "  }\n",
              "\n",
              "  @keyframes spin {\n",
              "    0% {\n",
              "      border-color: transparent;\n",
              "      border-bottom-color: var(--fill-color);\n",
              "      border-left-color: var(--fill-color);\n",
              "    }\n",
              "    20% {\n",
              "      border-color: transparent;\n",
              "      border-left-color: var(--fill-color);\n",
              "      border-top-color: var(--fill-color);\n",
              "    }\n",
              "    30% {\n",
              "      border-color: transparent;\n",
              "      border-left-color: var(--fill-color);\n",
              "      border-top-color: var(--fill-color);\n",
              "      border-right-color: var(--fill-color);\n",
              "    }\n",
              "    40% {\n",
              "      border-color: transparent;\n",
              "      border-right-color: var(--fill-color);\n",
              "      border-top-color: var(--fill-color);\n",
              "    }\n",
              "    60% {\n",
              "      border-color: transparent;\n",
              "      border-right-color: var(--fill-color);\n",
              "    }\n",
              "    80% {\n",
              "      border-color: transparent;\n",
              "      border-right-color: var(--fill-color);\n",
              "      border-bottom-color: var(--fill-color);\n",
              "    }\n",
              "    90% {\n",
              "      border-color: transparent;\n",
              "      border-bottom-color: var(--fill-color);\n",
              "    }\n",
              "  }\n",
              "</style>\n",
              "\n",
              "  <script>\n",
              "    async function quickchart(key) {\n",
              "      const quickchartButtonEl =\n",
              "        document.querySelector('#' + key + ' button');\n",
              "      quickchartButtonEl.disabled = true;  // To prevent multiple clicks.\n",
              "      quickchartButtonEl.classList.add('colab-df-spinner');\n",
              "      try {\n",
              "        const charts = await google.colab.kernel.invokeFunction(\n",
              "            'suggestCharts', [key], {});\n",
              "      } catch (error) {\n",
              "        console.error('Error during call to suggestCharts:', error);\n",
              "      }\n",
              "      quickchartButtonEl.classList.remove('colab-df-spinner');\n",
              "      quickchartButtonEl.classList.add('colab-df-quickchart-complete');\n",
              "    }\n",
              "    (() => {\n",
              "      let quickchartButtonEl =\n",
              "        document.querySelector('#df-00d1ba52-5472-4491-a322-3371f7700bc9 button');\n",
              "      quickchartButtonEl.style.display =\n",
              "        google.colab.kernel.accessAllowed ? 'block' : 'none';\n",
              "    })();\n",
              "  </script>\n",
              "</div>\n",
              "    </div>\n",
              "  </div>\n"
            ]
          },
          "metadata": {},
          "execution_count": 9
        }
      ]
    },
    {
      "cell_type": "code",
      "source": [
        "# Menyimpan DataFrame ke dalam file CSV\n",
        "df.to_csv('hasil_statistik_audio.csv', index=False)"
      ],
      "metadata": {
        "id": "UVcnNdjapenp"
      },
      "execution_count": null,
      "outputs": []
    },
    {
      "cell_type": "markdown",
      "source": [
        "# **PRE-PROCESSING NORMALISASI dengan Z-SCORE**"
      ],
      "metadata": {
        "id": "s0CbUYAppqd5"
      }
    },
    {
      "cell_type": "code",
      "source": [
        "from sklearn.preprocessing import StandardScaler"
      ],
      "metadata": {
        "id": "DK5U17theQDM"
      },
      "execution_count": null,
      "outputs": []
    },
    {
      "cell_type": "code",
      "source": [
        "# Baca file CSV\n",
        "norm = pd.read_csv(\"hasil_statistik_audio.csv\")"
      ],
      "metadata": {
        "id": "-5Iy3nnheSGK"
      },
      "execution_count": null,
      "outputs": []
    },
    {
      "cell_type": "code",
      "source": [
        "# Tentukan kolom yang akan distandarisasi\n",
        "kolom = ['ZCR Mean', 'ZCR Median', 'ZCR Std Dev', 'ZCR Kurtosis', 'ZCR Skew', 'RMSE', 'RMSE Median', 'RMSE Std Dev', 'RMSE Kurtosis', 'RMSE Skew']\n"
      ],
      "metadata": {
        "id": "YEj-He-8eUPA"
      },
      "execution_count": null,
      "outputs": []
    },
    {
      "cell_type": "markdown",
      "source": [
        "SIMPAN MODEL NORMALISASI DAN MODEL KLASIFIKASI"
      ],
      "metadata": {
        "id": "_cMNfAJdeXQS"
      }
    },
    {
      "cell_type": "code",
      "source": [
        "from sklearn.model_selection import train_test_split\n",
        "from sklearn.preprocessing import StandardScaler\n",
        "from sklearn.neighbors import KNeighborsClassifier\n",
        "from pickle import dump"
      ],
      "metadata": {
        "id": "J6uzLZupefWZ"
      },
      "execution_count": null,
      "outputs": []
    },
    {
      "cell_type": "code",
      "source": [
        "# Baca data dari file CSV\n",
        "dataknn= pd.read_csv('hasil_statistik_audio.csv')\n",
        "# Pisahkan fitur (X) dan label (y)\n",
        "X = dataknn.drop(['Label','File'], axis=1)  # Ganti 'target_column' dengan nama kolom target\n",
        "y = dataknn['Label']\n",
        "# split data into train and test sets\n",
        "X_train,X_test,y_train, y_test= train_test_split(X, y, random_state=1, test_size=0.2)\n",
        "# define scaler\n",
        "scaler = StandardScaler()\n",
        "# fit scaler on the training dataset\n",
        "scaler.fit(X_train)\n",
        "# save the scaler\n",
        "#dump(scaler, open('scaler.pkl', 'wb'))\n",
        "# transform the training dataset\n",
        "X_train_scaled = scaler.transform(X_train)\n",
        "X_test_scaled = scaler.transform(X_test)"
      ],
      "metadata": {
        "id": "GU54T_9Oehw7"
      },
      "execution_count": null,
      "outputs": []
    },
    {
      "cell_type": "code",
      "source": [
        "import pickle\n",
        "with open('scaler.pkl', 'rb') as standarisasi:\n",
        "    loadscal= pickle.load(standarisasi)"
      ],
      "metadata": {
        "id": "34KLMA9eemPS"
      },
      "execution_count": null,
      "outputs": []
    },
    {
      "cell_type": "code",
      "source": [
        "from sklearn.metrics import accuracy_score\n",
        "from sklearn.metrics import confusion_matrix"
      ],
      "metadata": {
        "id": "RpI8GK6GeyXT"
      },
      "execution_count": null,
      "outputs": []
    },
    {
      "cell_type": "code",
      "source": [
        "K = 50\n",
        "acc = np.zeros((K-1))\n",
        "\n",
        "for n in range(1,K,2):\n",
        "    knn = KNeighborsClassifier(n_neighbors= n, metric = \"euclidean\").fit(X_train_scaled, y_train)\n",
        "    y_pred = knn.predict(X_test_scaled)\n",
        "\n",
        "    acc[n-1]= accuracy_score(y_test,y_pred)\n",
        "\n",
        "print('akurasi terbaik adalah ', acc.max(), 'dengan nilai k =', acc.argmax()+1)"
      ],
      "metadata": {
        "colab": {
          "base_uri": "https://localhost:8080/"
        },
        "id": "9ud7xcJbeyUr",
        "outputId": "a3f13fc0-ec36-4be6-a44d-2a3a005a9196"
      },
      "execution_count": null,
      "outputs": [
        {
          "output_type": "stream",
          "name": "stdout",
          "text": [
            "akurasi terbaik adalah  0.7089285714285715 dengan nilai k = 7\n"
          ]
        }
      ]
    },
    {
      "cell_type": "code",
      "source": [
        "knn = KNeighborsClassifier(n_neighbors= 11, metric = \"euclidean\")\n",
        "dump(knn, open('modelknn.pkl', 'wb'))\n"
      ],
      "metadata": {
        "id": "r3Bc2J4beySU"
      },
      "execution_count": null,
      "outputs": []
    },
    {
      "cell_type": "code",
      "source": [
        "import pickle\n",
        "with open('modelknn.pkl', 'rb') as knn:\n",
        "    loadknn= pickle.load(knn)\n",
        "loadknn.fit(X_train_scaled, y_train)"
      ],
      "metadata": {
        "colab": {
          "base_uri": "https://localhost:8080/",
          "height": 74
        },
        "id": "c7lju-vzeyPr",
        "outputId": "4e947387-d9e4-49b6-ff81-c74178513043"
      },
      "execution_count": null,
      "outputs": [
        {
          "output_type": "execute_result",
          "data": {
            "text/plain": [
              "KNeighborsClassifier(metric='euclidean', n_neighbors=11)"
            ],
            "text/html": [
              "<style>#sk-container-id-1 {color: black;background-color: white;}#sk-container-id-1 pre{padding: 0;}#sk-container-id-1 div.sk-toggleable {background-color: white;}#sk-container-id-1 label.sk-toggleable__label {cursor: pointer;display: block;width: 100%;margin-bottom: 0;padding: 0.3em;box-sizing: border-box;text-align: center;}#sk-container-id-1 label.sk-toggleable__label-arrow:before {content: \"▸\";float: left;margin-right: 0.25em;color: #696969;}#sk-container-id-1 label.sk-toggleable__label-arrow:hover:before {color: black;}#sk-container-id-1 div.sk-estimator:hover label.sk-toggleable__label-arrow:before {color: black;}#sk-container-id-1 div.sk-toggleable__content {max-height: 0;max-width: 0;overflow: hidden;text-align: left;background-color: #f0f8ff;}#sk-container-id-1 div.sk-toggleable__content pre {margin: 0.2em;color: black;border-radius: 0.25em;background-color: #f0f8ff;}#sk-container-id-1 input.sk-toggleable__control:checked~div.sk-toggleable__content {max-height: 200px;max-width: 100%;overflow: auto;}#sk-container-id-1 input.sk-toggleable__control:checked~label.sk-toggleable__label-arrow:before {content: \"▾\";}#sk-container-id-1 div.sk-estimator input.sk-toggleable__control:checked~label.sk-toggleable__label {background-color: #d4ebff;}#sk-container-id-1 div.sk-label input.sk-toggleable__control:checked~label.sk-toggleable__label {background-color: #d4ebff;}#sk-container-id-1 input.sk-hidden--visually {border: 0;clip: rect(1px 1px 1px 1px);clip: rect(1px, 1px, 1px, 1px);height: 1px;margin: -1px;overflow: hidden;padding: 0;position: absolute;width: 1px;}#sk-container-id-1 div.sk-estimator {font-family: monospace;background-color: #f0f8ff;border: 1px dotted black;border-radius: 0.25em;box-sizing: border-box;margin-bottom: 0.5em;}#sk-container-id-1 div.sk-estimator:hover {background-color: #d4ebff;}#sk-container-id-1 div.sk-parallel-item::after {content: \"\";width: 100%;border-bottom: 1px solid gray;flex-grow: 1;}#sk-container-id-1 div.sk-label:hover label.sk-toggleable__label {background-color: #d4ebff;}#sk-container-id-1 div.sk-serial::before {content: \"\";position: absolute;border-left: 1px solid gray;box-sizing: border-box;top: 0;bottom: 0;left: 50%;z-index: 0;}#sk-container-id-1 div.sk-serial {display: flex;flex-direction: column;align-items: center;background-color: white;padding-right: 0.2em;padding-left: 0.2em;position: relative;}#sk-container-id-1 div.sk-item {position: relative;z-index: 1;}#sk-container-id-1 div.sk-parallel {display: flex;align-items: stretch;justify-content: center;background-color: white;position: relative;}#sk-container-id-1 div.sk-item::before, #sk-container-id-1 div.sk-parallel-item::before {content: \"\";position: absolute;border-left: 1px solid gray;box-sizing: border-box;top: 0;bottom: 0;left: 50%;z-index: -1;}#sk-container-id-1 div.sk-parallel-item {display: flex;flex-direction: column;z-index: 1;position: relative;background-color: white;}#sk-container-id-1 div.sk-parallel-item:first-child::after {align-self: flex-end;width: 50%;}#sk-container-id-1 div.sk-parallel-item:last-child::after {align-self: flex-start;width: 50%;}#sk-container-id-1 div.sk-parallel-item:only-child::after {width: 0;}#sk-container-id-1 div.sk-dashed-wrapped {border: 1px dashed gray;margin: 0 0.4em 0.5em 0.4em;box-sizing: border-box;padding-bottom: 0.4em;background-color: white;}#sk-container-id-1 div.sk-label label {font-family: monospace;font-weight: bold;display: inline-block;line-height: 1.2em;}#sk-container-id-1 div.sk-label-container {text-align: center;}#sk-container-id-1 div.sk-container {/* jupyter's `normalize.less` sets `[hidden] { display: none; }` but bootstrap.min.css set `[hidden] { display: none !important; }` so we also need the `!important` here to be able to override the default hidden behavior on the sphinx rendered scikit-learn.org. See: https://github.com/scikit-learn/scikit-learn/issues/21755 */display: inline-block !important;position: relative;}#sk-container-id-1 div.sk-text-repr-fallback {display: none;}</style><div id=\"sk-container-id-1\" class=\"sk-top-container\"><div class=\"sk-text-repr-fallback\"><pre>KNeighborsClassifier(metric=&#x27;euclidean&#x27;, n_neighbors=11)</pre><b>In a Jupyter environment, please rerun this cell to show the HTML representation or trust the notebook. <br />On GitHub, the HTML representation is unable to render, please try loading this page with nbviewer.org.</b></div><div class=\"sk-container\" hidden><div class=\"sk-item\"><div class=\"sk-estimator sk-toggleable\"><input class=\"sk-toggleable__control sk-hidden--visually\" id=\"sk-estimator-id-1\" type=\"checkbox\" checked><label for=\"sk-estimator-id-1\" class=\"sk-toggleable__label sk-toggleable__label-arrow\">KNeighborsClassifier</label><div class=\"sk-toggleable__content\"><pre>KNeighborsClassifier(metric=&#x27;euclidean&#x27;, n_neighbors=11)</pre></div></div></div></div></div>"
            ]
          },
          "metadata": {},
          "execution_count": 20
        }
      ]
    },
    {
      "cell_type": "code",
      "source": [
        "accuracy = accuracy_score(y_test,y_pred)\n",
        "print(\"Akurasi:\",accuracy)"
      ],
      "metadata": {
        "colab": {
          "base_uri": "https://localhost:8080/"
        },
        "id": "kV9SAspZeyM-",
        "outputId": "aa9e59bc-0964-472f-c04b-0fa048a62e39"
      },
      "execution_count": null,
      "outputs": [
        {
          "output_type": "stream",
          "name": "stdout",
          "text": [
            "Akurasi: 0.6464285714285715\n"
          ]
        }
      ]
    },
    {
      "cell_type": "markdown",
      "source": [
        "# **REDUKSI DATA DENGAN PCA**"
      ],
      "metadata": {
        "id": "C8koyq64fpJV"
      }
    },
    {
      "cell_type": "code",
      "source": [
        "from sklearn.decomposition import PCA"
      ],
      "metadata": {
        "id": "4ouB6M14eyKe"
      },
      "execution_count": null,
      "outputs": []
    },
    {
      "cell_type": "code",
      "source": [
        "pca = PCA(n_components=9)\n",
        "pca.fit(X_train_scaled)\n",
        "pca_train = pca.transform(X_train_scaled)"
      ],
      "metadata": {
        "id": "KKftaCNteyH5"
      },
      "execution_count": null,
      "outputs": []
    },
    {
      "cell_type": "code",
      "source": [
        "pca_train.shape"
      ],
      "metadata": {
        "colab": {
          "base_uri": "https://localhost:8080/"
        },
        "id": "uksnRyL2eyFj",
        "outputId": "e7b19316-3226-4886-8845-7f87701b8a77"
      },
      "execution_count": null,
      "outputs": [
        {
          "output_type": "execute_result",
          "data": {
            "text/plain": [
              "(2240, 9)"
            ]
          },
          "metadata": {},
          "execution_count": 24
        }
      ]
    },
    {
      "cell_type": "code",
      "source": [
        "pca_test = pca.transform(X_test_scaled)"
      ],
      "metadata": {
        "id": "65KpM3iVeyC7"
      },
      "execution_count": null,
      "outputs": []
    },
    {
      "cell_type": "code",
      "source": [
        "type(pca_test)"
      ],
      "metadata": {
        "colab": {
          "base_uri": "https://localhost:8080/"
        },
        "id": "vDlECtoGeyA0",
        "outputId": "c6a97212-83bc-47c7-e34d-47c4d43c770d"
      },
      "execution_count": null,
      "outputs": [
        {
          "output_type": "execute_result",
          "data": {
            "text/plain": [
              "numpy.ndarray"
            ]
          },
          "metadata": {},
          "execution_count": 26
        }
      ]
    },
    {
      "cell_type": "code",
      "source": [
        "pca_test.shape"
      ],
      "metadata": {
        "colab": {
          "base_uri": "https://localhost:8080/"
        },
        "id": "Nd9yPoXiex98",
        "outputId": "6e6ae2b5-cb42-42c5-c145-68a05022eb7f"
      },
      "execution_count": null,
      "outputs": [
        {
          "output_type": "execute_result",
          "data": {
            "text/plain": [
              "(560, 9)"
            ]
          },
          "metadata": {},
          "execution_count": 27
        }
      ]
    },
    {
      "cell_type": "code",
      "source": [
        "dump(pca_train, open('PCA9.pkl', 'wb'))"
      ],
      "metadata": {
        "id": "iZ7hgQeYex7X"
      },
      "execution_count": null,
      "outputs": []
    },
    {
      "cell_type": "code",
      "source": [
        "import pickle\n",
        "with open('PCA9.pkl', 'rb') as pca:\n",
        "    loadpca= pickle.load(pca)"
      ],
      "metadata": {
        "id": "leq1315Vex41"
      },
      "execution_count": null,
      "outputs": []
    },
    {
      "cell_type": "code",
      "source": [
        "from sklearn.neighbors import KNeighborsClassifier\n",
        "classifier = KNeighborsClassifier(n_neighbors=11)\n",
        "classifier.fit(pca_train, y_train)"
      ],
      "metadata": {
        "colab": {
          "base_uri": "https://localhost:8080/",
          "height": 74
        },
        "id": "riIapER4ex2J",
        "outputId": "fa77b621-c4f6-42f4-cdf7-d3cda59ecc3a"
      },
      "execution_count": null,
      "outputs": [
        {
          "output_type": "execute_result",
          "data": {
            "text/plain": [
              "KNeighborsClassifier(n_neighbors=11)"
            ],
            "text/html": [
              "<style>#sk-container-id-2 {color: black;background-color: white;}#sk-container-id-2 pre{padding: 0;}#sk-container-id-2 div.sk-toggleable {background-color: white;}#sk-container-id-2 label.sk-toggleable__label {cursor: pointer;display: block;width: 100%;margin-bottom: 0;padding: 0.3em;box-sizing: border-box;text-align: center;}#sk-container-id-2 label.sk-toggleable__label-arrow:before {content: \"▸\";float: left;margin-right: 0.25em;color: #696969;}#sk-container-id-2 label.sk-toggleable__label-arrow:hover:before {color: black;}#sk-container-id-2 div.sk-estimator:hover label.sk-toggleable__label-arrow:before {color: black;}#sk-container-id-2 div.sk-toggleable__content {max-height: 0;max-width: 0;overflow: hidden;text-align: left;background-color: #f0f8ff;}#sk-container-id-2 div.sk-toggleable__content pre {margin: 0.2em;color: black;border-radius: 0.25em;background-color: #f0f8ff;}#sk-container-id-2 input.sk-toggleable__control:checked~div.sk-toggleable__content {max-height: 200px;max-width: 100%;overflow: auto;}#sk-container-id-2 input.sk-toggleable__control:checked~label.sk-toggleable__label-arrow:before {content: \"▾\";}#sk-container-id-2 div.sk-estimator input.sk-toggleable__control:checked~label.sk-toggleable__label {background-color: #d4ebff;}#sk-container-id-2 div.sk-label input.sk-toggleable__control:checked~label.sk-toggleable__label {background-color: #d4ebff;}#sk-container-id-2 input.sk-hidden--visually {border: 0;clip: rect(1px 1px 1px 1px);clip: rect(1px, 1px, 1px, 1px);height: 1px;margin: -1px;overflow: hidden;padding: 0;position: absolute;width: 1px;}#sk-container-id-2 div.sk-estimator {font-family: monospace;background-color: #f0f8ff;border: 1px dotted black;border-radius: 0.25em;box-sizing: border-box;margin-bottom: 0.5em;}#sk-container-id-2 div.sk-estimator:hover {background-color: #d4ebff;}#sk-container-id-2 div.sk-parallel-item::after {content: \"\";width: 100%;border-bottom: 1px solid gray;flex-grow: 1;}#sk-container-id-2 div.sk-label:hover label.sk-toggleable__label {background-color: #d4ebff;}#sk-container-id-2 div.sk-serial::before {content: \"\";position: absolute;border-left: 1px solid gray;box-sizing: border-box;top: 0;bottom: 0;left: 50%;z-index: 0;}#sk-container-id-2 div.sk-serial {display: flex;flex-direction: column;align-items: center;background-color: white;padding-right: 0.2em;padding-left: 0.2em;position: relative;}#sk-container-id-2 div.sk-item {position: relative;z-index: 1;}#sk-container-id-2 div.sk-parallel {display: flex;align-items: stretch;justify-content: center;background-color: white;position: relative;}#sk-container-id-2 div.sk-item::before, #sk-container-id-2 div.sk-parallel-item::before {content: \"\";position: absolute;border-left: 1px solid gray;box-sizing: border-box;top: 0;bottom: 0;left: 50%;z-index: -1;}#sk-container-id-2 div.sk-parallel-item {display: flex;flex-direction: column;z-index: 1;position: relative;background-color: white;}#sk-container-id-2 div.sk-parallel-item:first-child::after {align-self: flex-end;width: 50%;}#sk-container-id-2 div.sk-parallel-item:last-child::after {align-self: flex-start;width: 50%;}#sk-container-id-2 div.sk-parallel-item:only-child::after {width: 0;}#sk-container-id-2 div.sk-dashed-wrapped {border: 1px dashed gray;margin: 0 0.4em 0.5em 0.4em;box-sizing: border-box;padding-bottom: 0.4em;background-color: white;}#sk-container-id-2 div.sk-label label {font-family: monospace;font-weight: bold;display: inline-block;line-height: 1.2em;}#sk-container-id-2 div.sk-label-container {text-align: center;}#sk-container-id-2 div.sk-container {/* jupyter's `normalize.less` sets `[hidden] { display: none; }` but bootstrap.min.css set `[hidden] { display: none !important; }` so we also need the `!important` here to be able to override the default hidden behavior on the sphinx rendered scikit-learn.org. See: https://github.com/scikit-learn/scikit-learn/issues/21755 */display: inline-block !important;position: relative;}#sk-container-id-2 div.sk-text-repr-fallback {display: none;}</style><div id=\"sk-container-id-2\" class=\"sk-top-container\"><div class=\"sk-text-repr-fallback\"><pre>KNeighborsClassifier(n_neighbors=11)</pre><b>In a Jupyter environment, please rerun this cell to show the HTML representation or trust the notebook. <br />On GitHub, the HTML representation is unable to render, please try loading this page with nbviewer.org.</b></div><div class=\"sk-container\" hidden><div class=\"sk-item\"><div class=\"sk-estimator sk-toggleable\"><input class=\"sk-toggleable__control sk-hidden--visually\" id=\"sk-estimator-id-2\" type=\"checkbox\" checked><label for=\"sk-estimator-id-2\" class=\"sk-toggleable__label sk-toggleable__label-arrow\">KNeighborsClassifier</label><div class=\"sk-toggleable__content\"><pre>KNeighborsClassifier(n_neighbors=11)</pre></div></div></div></div></div>"
            ]
          },
          "metadata": {},
          "execution_count": 30
        }
      ]
    },
    {
      "cell_type": "code",
      "source": [
        "y_prediksi = classifier.predict(pca_test)\n",
        "y_prediksi"
      ],
      "metadata": {
        "colab": {
          "base_uri": "https://localhost:8080/"
        },
        "id": "15Tj8Ij7extx",
        "outputId": "4952fc9e-984e-4753-ad3e-9a2c460017a0"
      },
      "execution_count": null,
      "outputs": [
        {
          "output_type": "execute_result",
          "data": {
            "text/plain": [
              "array(['OAF_Fear', 'YAF_disgust', 'YAF_neutral', 'YAF_neutral',\n",
              "       'OAF_neutral', 'OAF_neutral', 'YAF_neutral', 'OAF_angry',\n",
              "       'OAF_happy', 'OAF_neutral', 'YAF_sad', 'YAF_neutral', 'OAF_angry',\n",
              "       'OAF_angry', 'OAF_Pleasant_surprise', 'OAF_angry', 'OAF_Sad',\n",
              "       'YAF_sad', 'OAF_angry', 'YAF_sad', 'YAF_pleasant_surprised',\n",
              "       'OAF_neutral', 'OAF_angry', 'YAF_fear', 'OAF_neutral', 'YAF_sad',\n",
              "       'YAF_angry', 'YAF_fear', 'OAF_Fear', 'OAF_happy', 'OAF_neutral',\n",
              "       'OAF_Fear', 'YAF_neutral', 'YAF_angry', 'YAF_sad', 'YAF_angry',\n",
              "       'OAF_Fear', 'OAF_disgust', 'YAF_happy', 'OAF_disgust',\n",
              "       'YAF_disgust', 'OAF_Sad', 'YAF_neutral', 'YAF_fear', 'OAF_happy',\n",
              "       'OAF_happy', 'YAF_happy', 'YAF_pleasant_surprised', 'OAF_neutral',\n",
              "       'OAF_Sad', 'OAF_Pleasant_surprise', 'OAF_happy', 'OAF_Sad',\n",
              "       'YAF_pleasant_surprised', 'YAF_disgust', 'OAF_disgust',\n",
              "       'OAF_angry', 'OAF_disgust', 'YAF_disgust', 'OAF_Sad', 'OAF_happy',\n",
              "       'OAF_Fear', 'OAF_Sad', 'OAF_angry', 'YAF_pleasant_surprised',\n",
              "       'OAF_disgust', 'OAF_angry', 'YAF_neutral', 'YAF_fear',\n",
              "       'YAF_pleasant_surprised', 'OAF_disgust', 'OAF_angry', 'OAF_happy',\n",
              "       'OAF_Fear', 'OAF_angry', 'YAF_pleasant_surprised', 'OAF_Fear',\n",
              "       'OAF_Sad', 'YAF_disgust', 'YAF_happy', 'YAF_neutral',\n",
              "       'YAF_neutral', 'YAF_angry', 'YAF_sad', 'YAF_pleasant_surprised',\n",
              "       'YAF_fear', 'YAF_sad', 'YAF_pleasant_surprised', 'YAF_angry',\n",
              "       'OAF_happy', 'YAF_angry', 'YAF_sad', 'YAF_fear',\n",
              "       'YAF_pleasant_surprised', 'OAF_Pleasant_surprise',\n",
              "       'OAF_Pleasant_surprise', 'YAF_neutral', 'YAF_neutral', 'YAF_fear',\n",
              "       'OAF_Fear', 'OAF_neutral', 'OAF_Fear', 'OAF_Sad', 'YAF_sad',\n",
              "       'OAF_disgust', 'OAF_disgust', 'OAF_neutral', 'YAF_neutral',\n",
              "       'OAF_Sad', 'OAF_angry', 'OAF_disgust', 'YAF_sad',\n",
              "       'OAF_Pleasant_surprise', 'YAF_angry', 'OAF_Sad',\n",
              "       'YAF_pleasant_surprised', 'YAF_disgust', 'OAF_Fear', 'YAF_happy',\n",
              "       'OAF_Fear', 'OAF_disgust', 'YAF_disgust', 'OAF_Pleasant_surprise',\n",
              "       'OAF_angry', 'YAF_pleasant_surprised', 'OAF_disgust', 'YAF_happy',\n",
              "       'OAF_Sad', 'OAF_Pleasant_surprise', 'YAF_happy', 'YAF_happy',\n",
              "       'YAF_disgust', 'OAF_neutral', 'YAF_angry', 'OAF_Pleasant_surprise',\n",
              "       'YAF_happy', 'YAF_sad', 'YAF_disgust', 'OAF_Fear', 'OAF_neutral',\n",
              "       'YAF_sad', 'YAF_angry', 'YAF_pleasant_surprised', 'YAF_disgust',\n",
              "       'OAF_Sad', 'YAF_fear', 'YAF_angry', 'YAF_pleasant_surprised',\n",
              "       'YAF_pleasant_surprised', 'YAF_angry', 'YAF_angry', 'OAF_Fear',\n",
              "       'OAF_angry', 'YAF_angry', 'YAF_fear', 'YAF_happy', 'OAF_neutral',\n",
              "       'OAF_happy', 'YAF_fear', 'OAF_Sad', 'OAF_neutral', 'OAF_neutral',\n",
              "       'YAF_sad', 'YAF_angry', 'OAF_disgust', 'OAF_disgust',\n",
              "       'OAF_neutral', 'YAF_sad', 'YAF_neutral', 'YAF_pleasant_surprised',\n",
              "       'OAF_neutral', 'YAF_fear', 'YAF_disgust', 'YAF_fear', 'YAF_fear',\n",
              "       'YAF_sad', 'OAF_Sad', 'OAF_disgust', 'YAF_neutral',\n",
              "       'YAF_pleasant_surprised', 'YAF_pleasant_surprised',\n",
              "       'YAF_pleasant_surprised', 'YAF_happy', 'YAF_happy', 'YAF_happy',\n",
              "       'YAF_happy', 'YAF_pleasant_surprised', 'OAF_Fear', 'YAF_angry',\n",
              "       'YAF_neutral', 'OAF_Sad', 'OAF_Sad', 'YAF_pleasant_surprised',\n",
              "       'YAF_sad', 'OAF_disgust', 'OAF_neutral', 'YAF_happy',\n",
              "       'YAF_disgust', 'YAF_happy', 'YAF_angry', 'OAF_disgust', 'OAF_Sad',\n",
              "       'OAF_neutral', 'YAF_disgust', 'OAF_Fear', 'OAF_disgust',\n",
              "       'OAF_angry', 'OAF_Pleasant_surprise', 'OAF_disgust', 'OAF_disgust',\n",
              "       'OAF_Sad', 'OAF_neutral', 'OAF_happy', 'YAF_disgust',\n",
              "       'YAF_pleasant_surprised', 'YAF_pleasant_surprised',\n",
              "       'OAF_Pleasant_surprise', 'YAF_neutral', 'OAF_angry', 'OAF_Fear',\n",
              "       'OAF_Pleasant_surprise', 'OAF_Pleasant_surprise',\n",
              "       'YAF_pleasant_surprised', 'YAF_neutral', 'OAF_neutral',\n",
              "       'YAF_neutral', 'YAF_happy', 'YAF_fear', 'OAF_Sad', 'YAF_neutral',\n",
              "       'OAF_happy', 'YAF_fear', 'OAF_happy', 'YAF_neutral', 'OAF_disgust',\n",
              "       'YAF_fear', 'YAF_fear', 'OAF_neutral', 'OAF_neutral',\n",
              "       'OAF_disgust', 'YAF_disgust', 'YAF_happy', 'YAF_sad',\n",
              "       'YAF_disgust', 'OAF_Fear', 'OAF_happy', 'YAF_pleasant_surprised',\n",
              "       'OAF_disgust', 'YAF_sad', 'YAF_neutral', 'OAF_Sad', 'YAF_sad',\n",
              "       'OAF_neutral', 'OAF_neutral', 'OAF_neutral', 'OAF_disgust',\n",
              "       'OAF_Sad', 'YAF_fear', 'OAF_Pleasant_surprise', 'OAF_Sad',\n",
              "       'YAF_happy', 'OAF_neutral', 'OAF_disgust', 'YAF_sad', 'OAF_happy',\n",
              "       'YAF_happy', 'YAF_sad', 'OAF_Pleasant_surprise', 'YAF_angry',\n",
              "       'OAF_happy', 'YAF_angry', 'YAF_disgust', 'OAF_happy', 'YAF_happy',\n",
              "       'OAF_angry', 'YAF_happy', 'OAF_angry', 'OAF_Pleasant_surprise',\n",
              "       'YAF_sad', 'OAF_happy', 'YAF_fear', 'OAF_Sad', 'YAF_disgust',\n",
              "       'YAF_neutral', 'OAF_angry', 'OAF_happy', 'OAF_Pleasant_surprise',\n",
              "       'YAF_happy', 'YAF_happy', 'OAF_happy', 'OAF_neutral',\n",
              "       'YAF_pleasant_surprised', 'OAF_Sad', 'OAF_happy', 'OAF_Sad',\n",
              "       'OAF_Pleasant_surprise', 'OAF_Pleasant_surprise', 'OAF_Sad',\n",
              "       'YAF_happy', 'OAF_Fear', 'OAF_Fear', 'YAF_happy', 'YAF_angry',\n",
              "       'OAF_neutral', 'YAF_pleasant_surprised', 'YAF_neutral',\n",
              "       'OAF_angry', 'YAF_pleasant_surprised', 'YAF_angry', 'OAF_neutral',\n",
              "       'OAF_angry', 'YAF_sad', 'OAF_happy', 'OAF_neutral', 'OAF_Fear',\n",
              "       'OAF_disgust', 'OAF_Pleasant_surprise', 'YAF_disgust', 'YAF_fear',\n",
              "       'YAF_sad', 'YAF_disgust', 'OAF_happy', 'YAF_sad', 'YAF_disgust',\n",
              "       'OAF_neutral', 'OAF_neutral', 'OAF_Sad', 'YAF_fear', 'OAF_disgust',\n",
              "       'OAF_Fear', 'OAF_Pleasant_surprise', 'YAF_sad', 'OAF_Fear',\n",
              "       'YAF_pleasant_surprised', 'OAF_Pleasant_surprise', 'YAF_angry',\n",
              "       'YAF_sad', 'OAF_Sad', 'OAF_Sad', 'OAF_Sad', 'OAF_neutral',\n",
              "       'YAF_fear', 'YAF_fear', 'YAF_disgust', 'YAF_pleasant_surprised',\n",
              "       'OAF_neutral', 'YAF_disgust', 'OAF_Pleasant_surprise', 'OAF_happy',\n",
              "       'YAF_angry', 'OAF_Fear', 'OAF_disgust', 'YAF_happy', 'OAF_neutral',\n",
              "       'YAF_angry', 'OAF_disgust', 'OAF_angry', 'OAF_Fear', 'OAF_Fear',\n",
              "       'YAF_disgust', 'OAF_neutral', 'YAF_disgust', 'YAF_happy',\n",
              "       'YAF_disgust', 'OAF_Fear', 'YAF_neutral', 'OAF_disgust',\n",
              "       'YAF_happy', 'YAF_neutral', 'YAF_sad', 'YAF_pleasant_surprised',\n",
              "       'OAF_happy', 'YAF_sad', 'OAF_happy', 'YAF_disgust', 'YAF_happy',\n",
              "       'OAF_disgust', 'YAF_disgust', 'OAF_disgust', 'OAF_happy',\n",
              "       'YAF_angry', 'YAF_happy', 'OAF_Sad', 'OAF_Pleasant_surprise',\n",
              "       'OAF_angry', 'YAF_disgust', 'YAF_sad', 'YAF_pleasant_surprised',\n",
              "       'OAF_angry', 'OAF_Pleasant_surprise', 'YAF_fear', 'YAF_neutral',\n",
              "       'OAF_neutral', 'YAF_disgust', 'OAF_Fear', 'OAF_disgust',\n",
              "       'OAF_Pleasant_surprise', 'YAF_fear', 'YAF_sad', 'YAF_sad',\n",
              "       'OAF_angry', 'YAF_pleasant_surprised', 'OAF_disgust', 'YAF_angry',\n",
              "       'OAF_disgust', 'OAF_disgust', 'OAF_angry',\n",
              "       'YAF_pleasant_surprised', 'OAF_angry', 'OAF_happy', 'YAF_disgust',\n",
              "       'OAF_Sad', 'OAF_happy', 'OAF_Sad', 'YAF_angry', 'OAF_angry',\n",
              "       'OAF_Fear', 'YAF_neutral', 'YAF_disgust', 'YAF_happy',\n",
              "       'OAF_neutral', 'OAF_Pleasant_surprise', 'OAF_Sad', 'OAF_angry',\n",
              "       'OAF_disgust', 'YAF_neutral', 'OAF_disgust',\n",
              "       'YAF_pleasant_surprised', 'YAF_neutral', 'YAF_disgust',\n",
              "       'YAF_neutral', 'YAF_fear', 'OAF_Fear', 'YAF_happy', 'YAF_angry',\n",
              "       'OAF_Pleasant_surprise', 'OAF_Pleasant_surprise', 'YAF_angry',\n",
              "       'OAF_Pleasant_surprise', 'YAF_angry', 'OAF_neutral', 'OAF_neutral',\n",
              "       'OAF_Fear', 'YAF_happy', 'YAF_pleasant_surprised', 'YAF_sad',\n",
              "       'OAF_neutral', 'OAF_Sad', 'YAF_pleasant_surprised', 'YAF_angry',\n",
              "       'YAF_pleasant_surprised', 'YAF_happy', 'YAF_fear', 'YAF_neutral',\n",
              "       'OAF_Sad', 'YAF_pleasant_surprised', 'OAF_happy', 'YAF_neutral',\n",
              "       'OAF_neutral', 'YAF_pleasant_surprised', 'OAF_disgust',\n",
              "       'YAF_neutral', 'YAF_pleasant_surprised', 'OAF_Pleasant_surprise',\n",
              "       'YAF_sad', 'OAF_Fear', 'YAF_disgust', 'OAF_disgust', 'OAF_disgust',\n",
              "       'YAF_sad', 'OAF_angry', 'YAF_angry', 'YAF_happy', 'YAF_disgust',\n",
              "       'YAF_happy', 'OAF_Sad', 'YAF_happy', 'OAF_Sad', 'YAF_neutral',\n",
              "       'OAF_neutral', 'YAF_fear', 'OAF_Sad', 'YAF_pleasant_surprised',\n",
              "       'YAF_fear', 'OAF_neutral', 'YAF_neutral', 'YAF_neutral',\n",
              "       'YAF_pleasant_surprised', 'YAF_happy', 'OAF_happy', 'YAF_disgust',\n",
              "       'YAF_disgust', 'OAF_angry', 'OAF_Sad', 'OAF_neutral', 'OAF_Sad',\n",
              "       'OAF_Fear', 'YAF_happy', 'YAF_angry', 'YAF_pleasant_surprised',\n",
              "       'YAF_happy', 'YAF_sad', 'YAF_neutral', 'OAF_angry', 'YAF_disgust',\n",
              "       'OAF_Sad', 'YAF_happy', 'YAF_angry', 'YAF_happy', 'OAF_Fear',\n",
              "       'OAF_Pleasant_surprise', 'YAF_sad', 'OAF_Pleasant_surprise',\n",
              "       'OAF_disgust', 'OAF_happy', 'YAF_neutral', 'YAF_happy',\n",
              "       'OAF_neutral', 'YAF_angry', 'YAF_disgust', 'OAF_Sad', 'YAF_happy',\n",
              "       'YAF_angry', 'OAF_disgust', 'OAF_Fear', 'YAF_neutral',\n",
              "       'YAF_pleasant_surprised', 'OAF_disgust', 'YAF_pleasant_surprised',\n",
              "       'YAF_angry', 'YAF_neutral', 'YAF_pleasant_surprised', 'OAF_Fear',\n",
              "       'OAF_angry', 'OAF_Pleasant_surprise', 'OAF_Pleasant_surprise',\n",
              "       'OAF_angry', 'OAF_Fear', 'OAF_Fear', 'OAF_angry', 'OAF_angry',\n",
              "       'OAF_disgust', 'OAF_neutral', 'YAF_happy', 'OAF_neutral',\n",
              "       'YAF_disgust', 'YAF_happy', 'YAF_pleasant_surprised',\n",
              "       'OAF_neutral', 'YAF_happy', 'YAF_disgust', 'OAF_Fear', 'OAF_Sad',\n",
              "       'OAF_happy', 'OAF_happy', 'YAF_pleasant_surprised', 'YAF_disgust',\n",
              "       'OAF_angry', 'OAF_Sad', 'YAF_disgust'], dtype=object)"
            ]
          },
          "metadata": {},
          "execution_count": 31
        }
      ]
    },
    {
      "cell_type": "code",
      "source": [
        "acc_pca= accuracy_score(y_test,y_prediksi)\n",
        "print(\"Akurasi:\",acc_pca)\n",
        "#Akurasi: 0.7153024911032029"
      ],
      "metadata": {
        "colab": {
          "base_uri": "https://localhost:8080/"
        },
        "id": "lEu7DkFXexgM",
        "outputId": "23e9bf59-15b5-4c47-dfec-45f5f89972d5"
      },
      "execution_count": null,
      "outputs": [
        {
          "output_type": "stream",
          "name": "stdout",
          "text": [
            "Akurasi: 0.6821428571428572\n"
          ]
        }
      ]
    }
  ]
}